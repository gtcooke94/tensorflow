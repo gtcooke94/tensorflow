{
 "cells": [
  {
   "cell_type": "markdown",
   "metadata": {
    "colab_type": "text",
    "deletable": true,
    "editable": true,
    "id": "kR-4eNdK6lYS"
   },
   "source": [
    "Deep Learning\n",
    "=============\n",
    "\n",
    "Assignment 3\n",
    "------------\n",
    "\n",
    "Previously in `2_fullyconnected.ipynb`, you trained a logistic regression and a neural network model.\n",
    "\n",
    "The goal of this assignment is to explore regularization techniques."
   ]
  },
  {
   "cell_type": "code",
   "execution_count": 10,
   "metadata": {
    "cellView": "both",
    "colab": {
     "autoexec": {
      "startup": false,
      "wait_interval": 0
     }
    },
    "colab_type": "code",
    "collapsed": true,
    "deletable": true,
    "editable": true,
    "id": "JLpLa8Jt7Vu4"
   },
   "outputs": [],
   "source": [
    "# These are all the modules we'll be using later. Make sure you can import them\n",
    "# before proceeding further.\n",
    "from __future__ import print_function\n",
    "import numpy as np\n",
    "import tensorflow as tf\n",
    "from six.moves import cPickle as pickle\n",
    "from math import sqrt"
   ]
  },
  {
   "cell_type": "markdown",
   "metadata": {
    "colab_type": "text",
    "deletable": true,
    "editable": true,
    "id": "1HrCK6e17WzV"
   },
   "source": [
    "First reload the data we generated in `1_notmnist.ipynb`."
   ]
  },
  {
   "cell_type": "code",
   "execution_count": 2,
   "metadata": {
    "cellView": "both",
    "colab": {
     "autoexec": {
      "startup": false,
      "wait_interval": 0
     },
     "output_extras": [
      {
       "item_id": 1
      }
     ]
    },
    "colab_type": "code",
    "collapsed": false,
    "deletable": true,
    "editable": true,
    "executionInfo": {
     "elapsed": 11777,
     "status": "ok",
     "timestamp": 1449849322348,
     "user": {
      "color": "",
      "displayName": "",
      "isAnonymous": false,
      "isMe": true,
      "permissionId": "",
      "photoUrl": "",
      "sessionId": "0",
      "userId": ""
     },
     "user_tz": 480
    },
    "id": "y3-cj1bpmuxc",
    "outputId": "e03576f1-ebbe-4838-c388-f1777bcc9873"
   },
   "outputs": [
    {
     "name": "stdout",
     "output_type": "stream",
     "text": [
      "Training set (100000, 28, 28) (100000,)\n",
      "Validation set (10000, 28, 28) (10000,)\n",
      "Test set (10000, 28, 28) (10000,)\n"
     ]
    }
   ],
   "source": [
    "pickle_file = 'notMNIST.pickle'\n",
    "\n",
    "with open(pickle_file, 'rb') as f:\n",
    "  save = pickle.load(f)\n",
    "  train_dataset = save['train_dataset']\n",
    "  train_labels = save['train_labels']\n",
    "  valid_dataset = save['valid_dataset']\n",
    "  valid_labels = save['valid_labels']\n",
    "  test_dataset = save['test_dataset']\n",
    "  test_labels = save['test_labels']\n",
    "  del save  # hint to help gc free up memory\n",
    "  print('Training set', train_dataset.shape, train_labels.shape)\n",
    "  print('Validation set', valid_dataset.shape, valid_labels.shape)\n",
    "  print('Test set', test_dataset.shape, test_labels.shape)"
   ]
  },
  {
   "cell_type": "markdown",
   "metadata": {
    "colab_type": "text",
    "deletable": true,
    "editable": true,
    "id": "L7aHrm6nGDMB"
   },
   "source": [
    "Reformat into a shape that's more adapted to the models we're going to train:\n",
    "- data as a flat matrix,\n",
    "- labels as float 1-hot encodings."
   ]
  },
  {
   "cell_type": "code",
   "execution_count": 3,
   "metadata": {
    "cellView": "both",
    "colab": {
     "autoexec": {
      "startup": false,
      "wait_interval": 0
     },
     "output_extras": [
      {
       "item_id": 1
      }
     ]
    },
    "colab_type": "code",
    "collapsed": false,
    "deletable": true,
    "editable": true,
    "executionInfo": {
     "elapsed": 11728,
     "status": "ok",
     "timestamp": 1449849322356,
     "user": {
      "color": "",
      "displayName": "",
      "isAnonymous": false,
      "isMe": true,
      "permissionId": "",
      "photoUrl": "",
      "sessionId": "0",
      "userId": ""
     },
     "user_tz": 480
    },
    "id": "IRSyYiIIGIzS",
    "outputId": "3f8996ee-3574-4f44-c953-5c8a04636582"
   },
   "outputs": [
    {
     "name": "stdout",
     "output_type": "stream",
     "text": [
      "Training set (100000, 784) (100000, 10)\n",
      "Validation set (10000, 784) (10000, 10)\n",
      "Test set (10000, 784) (10000, 10)\n"
     ]
    }
   ],
   "source": [
    "image_size = 28\n",
    "num_labels = 10\n",
    "\n",
    "def reformat(dataset, labels):\n",
    "  dataset = dataset.reshape((-1, image_size * image_size)).astype(np.float32)\n",
    "  # Map 1 to [0.0, 1.0, 0.0 ...], 2 to [0.0, 0.0, 1.0 ...]\n",
    "  labels = (np.arange(num_labels) == labels[:,None]).astype(np.float32)\n",
    "  return dataset, labels\n",
    "train_dataset, train_labels = reformat(train_dataset, train_labels)\n",
    "valid_dataset, valid_labels = reformat(valid_dataset, valid_labels)\n",
    "test_dataset, test_labels = reformat(test_dataset, test_labels)\n",
    "print('Training set', train_dataset.shape, train_labels.shape)\n",
    "print('Validation set', valid_dataset.shape, valid_labels.shape)\n",
    "print('Test set', test_dataset.shape, test_labels.shape)"
   ]
  },
  {
   "cell_type": "code",
   "execution_count": 4,
   "metadata": {
    "cellView": "both",
    "colab": {
     "autoexec": {
      "startup": false,
      "wait_interval": 0
     }
    },
    "colab_type": "code",
    "collapsed": true,
    "deletable": true,
    "editable": true,
    "id": "RajPLaL_ZW6w"
   },
   "outputs": [],
   "source": [
    "def accuracy(predictions, labels):\n",
    "  return (100.0 * np.sum(np.argmax(predictions, 1) == np.argmax(labels, 1))\n",
    "          / predictions.shape[0])"
   ]
  },
  {
   "cell_type": "markdown",
   "metadata": {
    "colab_type": "text",
    "deletable": true,
    "editable": true,
    "id": "sgLbUAQ1CW-1"
   },
   "source": [
    "---\n",
    "Problem 1\n",
    "---------\n",
    "\n",
    "Introduce and tune L2 regularization for both logistic and neural network models. Remember that L2 amounts to adding a penalty on the norm of the weights to the loss. In TensorFlow, you can compute the L2 loss for a tensor `t` using `nn.l2_loss(t)`. The right amount of regularization should improve your validation / test accuracy.\n",
    "\n",
    "---"
   ]
  },
  {
   "cell_type": "markdown",
   "metadata": {
    "deletable": true,
    "editable": true
   },
   "source": [
    "### Logistic Regression"
   ]
  },
  {
   "cell_type": "code",
   "execution_count": 11,
   "metadata": {
    "collapsed": false,
    "deletable": true,
    "editable": true
   },
   "outputs": [],
   "source": [
    "# With gradient descent training, even this much data is prohibitive.\n",
    "# Subset the training data for faster turnaround.\n",
    "train_subset = 10000\n",
    "\n",
    "graph = tf.Graph()\n",
    "with graph.as_default():\n",
    "\n",
    "  # Input data.\n",
    "  # Load the training, validation and test data into constants that are\n",
    "  # attached to the graph.\n",
    "  tf_train_dataset = tf.constant(train_dataset[:train_subset, :])\n",
    "  tf_train_labels = tf.constant(train_labels[:train_subset])\n",
    "  tf_valid_dataset = tf.constant(valid_dataset)\n",
    "  tf_test_dataset = tf.constant(test_dataset)\n",
    "  \n",
    "  # Variables.\n",
    "  # These are the parameters that we are going to be training. The weight\n",
    "  # matrix will be initialized using random values following a (truncated)\n",
    "  # normal distribution. The biases get initialized to zero.\n",
    "  weights = tf.Variable(\n",
    "    tf.truncated_normal([image_size * image_size, num_labels]))\n",
    "  biases = tf.Variable(tf.zeros([num_labels]))\n",
    "  \n",
    "  # Training computation.\n",
    "  # We multiply the inputs with the weight matrix, and add biases. We compute\n",
    "  # the softmax and cross-entropy (it's one operation in TensorFlow, because\n",
    "  # it's very common, and it can be optimized). We take the average of this\n",
    "  # cross-entropy across all training examples: that's our loss.\n",
    "  logits = tf.matmul(tf_train_dataset, weights) + biases\n",
    "  # In this cell, add the l2 norm of the weights to the loss\n",
    "  beta = 0.01\n",
    "  loss = tf.reduce_mean(\n",
    "    tf.nn.softmax_cross_entropy_with_logits(labels=tf_train_labels, logits=logits)) + (\n",
    "      beta * (tf.nn.l2_loss(weights)))\n",
    "  \n",
    "  # Optimizer.\n",
    "  # We are going to find the minimum of this loss using gradient descent.\n",
    "  optimizer = tf.train.GradientDescentOptimizer(0.5).minimize(loss)\n",
    "  \n",
    "  # Predictions for the training, validation, and test data.\n",
    "  # These are not part of training, but merely here so that we can report\n",
    "  # accuracy figures as we train.\n",
    "  train_prediction = tf.nn.softmax(logits)\n",
    "  valid_prediction = tf.nn.softmax(\n",
    "    tf.matmul(tf_valid_dataset, weights) + biases)\n",
    "  test_prediction = tf.nn.softmax(tf.matmul(tf_test_dataset, weights) + biases)"
   ]
  },
  {
   "cell_type": "code",
   "execution_count": 12,
   "metadata": {
    "collapsed": false,
    "deletable": true,
    "editable": true,
    "scrolled": true
   },
   "outputs": [
    {
     "name": "stdout",
     "output_type": "stream",
     "text": [
      "Initialized\n",
      "Loss at step 0: 46.337749\n",
      "Training accuracy: 10.0%\n",
      "Validation accuracy: 13.9%\n",
      "Loss at step 100: 11.790774\n",
      "Training accuracy: 74.1%\n",
      "Validation accuracy: 73.6%\n",
      "Loss at step 200: 4.466267\n",
      "Training accuracy: 79.3%\n",
      "Validation accuracy: 77.6%\n",
      "Loss at step 300: 1.971178\n",
      "Training accuracy: 82.1%\n",
      "Validation accuracy: 80.3%\n",
      "Loss at step 400: 1.123308\n",
      "Training accuracy: 83.7%\n",
      "Validation accuracy: 81.5%\n",
      "Loss at step 500: 0.832373\n",
      "Training accuracy: 84.3%\n",
      "Validation accuracy: 82.2%\n",
      "Loss at step 600: 0.731369\n",
      "Training accuracy: 84.5%\n",
      "Validation accuracy: 82.3%\n",
      "Loss at step 700: 0.695969\n",
      "Training accuracy: 84.6%\n",
      "Validation accuracy: 82.5%\n",
      "Loss at step 800: 0.683467\n",
      "Training accuracy: 84.6%\n",
      "Validation accuracy: 82.5%\n",
      "Test accuracy: 89.0%\n"
     ]
    }
   ],
   "source": [
    "num_steps = 801\n",
    "\n",
    "def accuracy(predictions, labels):\n",
    "  return (100.0 * np.sum(np.argmax(predictions, 1) == np.argmax(labels, 1))\n",
    "          / predictions.shape[0])\n",
    "\n",
    "with tf.Session(graph=graph) as session:\n",
    "  # This is a one-time operation which ensures the parameters get initialized as\n",
    "  # we described in the graph: random weights for the matrix, zeros for the\n",
    "  # biases. \n",
    "  tf.global_variables_initializer().run()\n",
    "  print('Initialized')\n",
    "  for step in range(num_steps):\n",
    "    # Run the computations. We tell .run() that we want to run the optimizer,\n",
    "    # and get the loss value and the training predictions returned as numpy\n",
    "    # arrays.\n",
    "    _, l, predictions = session.run([optimizer, loss, train_prediction])\n",
    "    if (step % 100 == 0):\n",
    "      print('Loss at step %d: %f' % (step, l))\n",
    "      print('Training accuracy: %.1f%%' % accuracy(\n",
    "        predictions, train_labels[:train_subset, :]))\n",
    "      # Calling .eval() on valid_prediction is basically like calling run(), but\n",
    "      # just to get that one numpy array. Note that it recomputes all its graph\n",
    "      # dependencies.\n",
    "      print('Validation accuracy: %.1f%%' % accuracy(\n",
    "        valid_prediction.eval(), valid_labels))\n",
    "  print('Test accuracy: %.1f%%' % accuracy(test_prediction.eval(), test_labels))"
   ]
  },
  {
   "cell_type": "markdown",
   "metadata": {
    "deletable": true,
    "editable": true
   },
   "source": [
    "### 2-Layer"
   ]
  },
  {
   "cell_type": "code",
   "execution_count": 19,
   "metadata": {
    "collapsed": true,
    "deletable": true,
    "editable": true
   },
   "outputs": [],
   "source": [
    "batch_size = 128\n",
    "hidden_layer_nodes = 1024\n",
    "beta = 0.001\n",
    "\n",
    "graph = tf.Graph()\n",
    "with graph.as_default():\n",
    "\n",
    "  # Input data. For the training data, we use a placeholder that will be fed\n",
    "  # at run time with a training minibatch.\n",
    "  tf_train_dataset = tf.placeholder(tf.float32,\n",
    "                                    shape=(batch_size, image_size * image_size))\n",
    "  tf_train_labels = tf.placeholder(tf.float32, shape=(batch_size, num_labels))\n",
    "  tf_valid_dataset = tf.constant(valid_dataset)\n",
    "  tf_test_dataset = tf.constant(test_dataset)\n",
    "  \n",
    "  # Variables.\n",
    "  weights1 = tf.Variable(\n",
    "    tf.truncated_normal([image_size * image_size, hidden_layer_nodes]))\n",
    "  biases1 = tf.Variable(tf.zeros([hidden_layer_nodes]))\n",
    "  weights2 = tf.Variable(\n",
    "    tf.truncated_normal([hidden_layer_nodes, num_labels]))\n",
    "  biases2 = tf.Variable(tf.zeros([num_labels]))\n",
    "  \n",
    "  # Training computation.\n",
    "  layer1 = tf.matmul(tf_train_dataset, weights1) + biases1\n",
    "  relus = tf.nn.relu(layer1)\n",
    "  logits = tf.matmul(relus, weights2) + biases2\n",
    "  loss = tf.reduce_mean(\n",
    "    tf.nn.softmax_cross_entropy_with_logits(labels=tf_train_labels, logits=logits)) + (\n",
    "      beta * (tf.nn.l2_loss(weights1) + tf.nn.l2_loss(weights2))\n",
    "    )\n",
    "  \n",
    "  # Optimizer.\n",
    "  optimizer = tf.train.GradientDescentOptimizer(0.5).minimize(loss)\n",
    "  \n",
    "  # Predictions for the training, validation, and test data.\n",
    "  train_prediction = tf.nn.softmax(logits)\n",
    "  valid_prediction = tf.nn.softmax(\n",
    "      tf.matmul(\n",
    "          tf.nn.relu(\n",
    "              tf.matmul(tf_valid_dataset, weights1) + biases1\n",
    "          ), weights2)\n",
    "      + biases2)\n",
    "\n",
    "\n",
    "  test_prediction = tf.nn.softmax(\n",
    "      tf.matmul(\n",
    "          tf.nn.relu(\n",
    "              tf.matmul(tf_test_dataset, weights1) + biases1\n",
    "          ), weights2)\n",
    "      + biases2)"
   ]
  },
  {
   "cell_type": "code",
   "execution_count": 20,
   "metadata": {
    "collapsed": false,
    "deletable": true,
    "editable": true
   },
   "outputs": [
    {
     "name": "stdout",
     "output_type": "stream",
     "text": [
      "Initialized\n",
      "Minibatch loss at step 0: 744.613159\n",
      "Minibatch accuracy: 11.7%\n",
      "Validation accuracy: 34.3%\n",
      "Minibatch loss at step 500: 190.447495\n",
      "Minibatch accuracy: 89.8%\n",
      "Validation accuracy: 81.8%\n",
      "Minibatch loss at step 1000: 114.303352\n",
      "Minibatch accuracy: 96.9%\n",
      "Validation accuracy: 82.3%\n",
      "Minibatch loss at step 1500: 69.741089\n",
      "Minibatch accuracy: 98.4%\n",
      "Validation accuracy: 83.5%\n",
      "Minibatch loss at step 2000: 42.093609\n",
      "Minibatch accuracy: 99.2%\n",
      "Validation accuracy: 84.0%\n",
      "Minibatch loss at step 2500: 25.554817\n",
      "Minibatch accuracy: 100.0%\n",
      "Validation accuracy: 84.9%\n",
      "Minibatch loss at step 3000: 15.586330\n",
      "Minibatch accuracy: 99.2%\n",
      "Validation accuracy: 85.3%\n",
      "Minibatch loss at step 3500: 9.558954\n",
      "Minibatch accuracy: 100.0%\n",
      "Validation accuracy: 85.9%\n",
      "Minibatch loss at step 4000: 5.950611\n",
      "Minibatch accuracy: 98.4%\n",
      "Validation accuracy: 86.0%\n",
      "Minibatch loss at step 4500: 3.725799\n",
      "Minibatch accuracy: 99.2%\n",
      "Validation accuracy: 86.4%\n",
      "Minibatch loss at step 5000: 2.418855\n",
      "Minibatch accuracy: 96.9%\n",
      "Validation accuracy: 86.5%\n",
      "Test accuracy: 92.4%\n"
     ]
    }
   ],
   "source": [
    "num_steps = 5001\n",
    "\n",
    "with tf.Session(graph=graph) as session:\n",
    "  tf.global_variables_initializer().run()\n",
    "  print(\"Initialized\")\n",
    "  for step in range(num_steps):\n",
    "    # Pick an offset within the training data, which has been randomized.\n",
    "    # Note: we could use better randomization across epochs.\n",
    "    offset = (step * batch_size) % (train_labels.shape[0] - batch_size)\n",
    "    # Generate a minibatch.\n",
    "    batch_data = train_dataset[offset:(offset + batch_size), :]\n",
    "    batch_labels = train_labels[offset:(offset + batch_size), :]\n",
    "    # Prepare a dictionary telling the session where to feed the minibatch.\n",
    "    # The key of the dictionary is the placeholder node of the graph to be fed,\n",
    "    # and the value is the numpy array to feed to it.\n",
    "    feed_dict = {tf_train_dataset : batch_data, tf_train_labels : batch_labels}\n",
    "    _, l, predictions = session.run(\n",
    "      [optimizer, loss, train_prediction], feed_dict=feed_dict)\n",
    "    if (step % 500 == 0):\n",
    "      print(\"Minibatch loss at step %d: %f\" % (step, l))\n",
    "      print(\"Minibatch accuracy: %.1f%%\" % accuracy(predictions, batch_labels))\n",
    "      print(\"Validation accuracy: %.1f%%\" % accuracy(\n",
    "        valid_prediction.eval(), valid_labels))\n",
    "  print(\"Test accuracy: %.1f%%\" % accuracy(test_prediction.eval(), test_labels))"
   ]
  },
  {
   "cell_type": "markdown",
   "metadata": {
    "colab_type": "text",
    "deletable": true,
    "editable": true,
    "id": "na8xX2yHZzNF"
   },
   "source": [
    "---\n",
    "Problem 2\n",
    "---------\n",
    "Let's demonstrate an extreme case of overfitting. Restrict your training data to just a few batches. What happens?\n",
    "\n",
    "---"
   ]
  },
  {
   "cell_type": "code",
   "execution_count": 41,
   "metadata": {
    "collapsed": true,
    "deletable": true,
    "editable": true
   },
   "outputs": [],
   "source": [
    "batch_size = 32\n",
    "hidden_layer_nodes = 1024\n",
    "beta = 0.001\n",
    "\n",
    "graph = tf.Graph()\n",
    "with graph.as_default():\n",
    "\n",
    "  # Input data. For the training data, we use a placeholder that will be fed\n",
    "  # at run time with a training minibatch.\n",
    "  tf_train_dataset = tf.placeholder(tf.float32,\n",
    "                                    shape=(batch_size, image_size * image_size))\n",
    "  tf_train_labels = tf.placeholder(tf.float32, shape=(batch_size, num_labels))\n",
    "  tf_valid_dataset = tf.constant(valid_dataset)\n",
    "  tf_test_dataset = tf.constant(test_dataset)\n",
    "  \n",
    "  # Variables.\n",
    "  weights1 = tf.Variable(\n",
    "    tf.truncated_normal([image_size * image_size, hidden_layer_nodes]))\n",
    "  biases1 = tf.Variable(tf.zeros([hidden_layer_nodes]))\n",
    "  weights2 = tf.Variable(\n",
    "    tf.truncated_normal([hidden_layer_nodes, num_labels]))\n",
    "  biases2 = tf.Variable(tf.zeros([num_labels]))\n",
    "  \n",
    "  # Training computation.\n",
    "  layer1 = tf.matmul(tf_train_dataset, weights1) + biases1\n",
    "  relus = tf.nn.relu(layer1)\n",
    "  logits = tf.matmul(relus, weights2) + biases2\n",
    "  loss = tf.reduce_mean(\n",
    "    tf.nn.softmax_cross_entropy_with_logits(labels=tf_train_labels, logits=logits)) + (\n",
    "      beta * (tf.nn.l2_loss(weights1) + tf.nn.l2_loss(weights2))\n",
    "    )\n",
    "  \n",
    "  # Optimizer.\n",
    "  optimizer = tf.train.GradientDescentOptimizer(0.5).minimize(loss)\n",
    "  \n",
    "  # Predictions for the training, validation, and test data.\n",
    "  train_prediction = tf.nn.softmax(logits)\n",
    "  valid_prediction = tf.nn.softmax(\n",
    "      tf.matmul(\n",
    "          tf.nn.relu(\n",
    "              tf.matmul(tf_valid_dataset, weights1) + biases1\n",
    "          ), weights2)\n",
    "      + biases2)\n",
    "\n",
    "\n",
    "  test_prediction = tf.nn.softmax(\n",
    "      tf.matmul(\n",
    "          tf.nn.relu(\n",
    "              tf.matmul(tf_test_dataset, weights1) + biases1\n",
    "          ), weights2)\n",
    "      + biases2)"
   ]
  },
  {
   "cell_type": "code",
   "execution_count": 42,
   "metadata": {
    "collapsed": false,
    "deletable": true,
    "editable": true
   },
   "outputs": [
    {
     "name": "stdout",
     "output_type": "stream",
     "text": [
      "Initialized\n",
      "Minibatch loss at step 0: 699.341797\n",
      "Minibatch accuracy: 9.4%\n",
      "Validation accuracy: 20.5%\n",
      "Minibatch loss at step 500: 191.928391\n",
      "Minibatch accuracy: 100.0%\n",
      "Validation accuracy: 38.4%\n",
      "Minibatch loss at step 1000: 116.396263\n",
      "Minibatch accuracy: 100.0%\n",
      "Validation accuracy: 38.4%\n",
      "Minibatch loss at step 1500: 70.589180\n",
      "Minibatch accuracy: 100.0%\n",
      "Validation accuracy: 38.4%\n",
      "Minibatch loss at step 2000: 42.809086\n",
      "Minibatch accuracy: 100.0%\n",
      "Validation accuracy: 38.5%\n",
      "Minibatch loss at step 2500: 25.961781\n",
      "Minibatch accuracy: 100.0%\n",
      "Validation accuracy: 38.8%\n",
      "Minibatch loss at step 3000: 15.744670\n",
      "Minibatch accuracy: 100.0%\n",
      "Validation accuracy: 39.0%\n",
      "Minibatch loss at step 3500: 9.548479\n",
      "Minibatch accuracy: 100.0%\n",
      "Validation accuracy: 39.5%\n",
      "Minibatch loss at step 4000: 5.790795\n",
      "Minibatch accuracy: 100.0%\n",
      "Validation accuracy: 40.4%\n",
      "Minibatch loss at step 4500: 3.512010\n",
      "Minibatch accuracy: 100.0%\n",
      "Validation accuracy: 41.4%\n",
      "Minibatch loss at step 5000: 2.130318\n",
      "Minibatch accuracy: 100.0%\n",
      "Validation accuracy: 43.5%\n",
      "Minibatch loss at step 5500: 1.293188\n",
      "Minibatch accuracy: 100.0%\n",
      "Validation accuracy: 46.3%\n",
      "Minibatch loss at step 6000: 0.787489\n",
      "Minibatch accuracy: 100.0%\n",
      "Validation accuracy: 47.9%\n",
      "Minibatch loss at step 6500: 0.482663\n",
      "Minibatch accuracy: 100.0%\n",
      "Validation accuracy: 48.4%\n",
      "Minibatch loss at step 7000: 0.297751\n",
      "Minibatch accuracy: 100.0%\n",
      "Validation accuracy: 48.7%\n",
      "Minibatch loss at step 7500: 0.185975\n",
      "Minibatch accuracy: 100.0%\n",
      "Validation accuracy: 49.2%\n",
      "Minibatch loss at step 8000: 0.118189\n",
      "Minibatch accuracy: 100.0%\n",
      "Validation accuracy: 49.4%\n",
      "Minibatch loss at step 8500: 0.077045\n",
      "Minibatch accuracy: 100.0%\n",
      "Validation accuracy: 49.5%\n",
      "Minibatch loss at step 9000: 0.052003\n",
      "Minibatch accuracy: 100.0%\n",
      "Validation accuracy: 49.6%\n",
      "Minibatch loss at step 9500: 0.037124\n",
      "Minibatch accuracy: 100.0%\n",
      "Validation accuracy: 49.7%\n",
      "Minibatch loss at step 10000: 0.027471\n",
      "Minibatch accuracy: 100.0%\n",
      "Validation accuracy: 49.7%\n",
      "Test accuracy: 53.8%\n"
     ]
    }
   ],
   "source": [
    "num_steps = 10001\n",
    "\n",
    "with tf.Session(graph=graph) as session:\n",
    "  tf.global_variables_initializer().run()\n",
    "  print(\"Initialized\")\n",
    "  for step in range(num_steps):\n",
    "    # Pick an offset within the training data, which has been randomized.\n",
    "    # Note: we could use better randomization across epochs.\n",
    "    \n",
    "    # BAD, only allow offsets between 0 and 4, lead to overfitting\n",
    "    offset = ((step * batch_size) % (train_labels.shape[0] - batch_size)) % 5\n",
    "    # Generate a minibatch.\n",
    "    batch_data = train_dataset[offset:(offset + batch_size), :]\n",
    "    batch_labels = train_labels[offset:(offset + batch_size), :]\n",
    "    # Prepare a dictionary telling the session where to feed the minibatch.\n",
    "    # The key of the dictionary is the placeholder node of the graph to be fed,\n",
    "    # and the value is the numpy array to feed to it.\n",
    "    feed_dict = {tf_train_dataset : batch_data, tf_train_labels : batch_labels}\n",
    "    _, l, predictions = session.run(\n",
    "      [optimizer, loss, train_prediction], feed_dict=feed_dict)\n",
    "    if (step % 500 == 0):\n",
    "      print(\"Minibatch loss at step %d: %f\" % (step, l))\n",
    "      print(\"Minibatch accuracy: %.1f%%\" % accuracy(predictions, batch_labels))\n",
    "      print(\"Validation accuracy: %.1f%%\" % accuracy(\n",
    "        valid_prediction.eval(), valid_labels))\n",
    "  print(\"Test accuracy: %.1f%%\" % accuracy(test_prediction.eval(), test_labels))"
   ]
  },
  {
   "cell_type": "markdown",
   "metadata": {
    "deletable": true,
    "editable": true
   },
   "source": [
    "We can clearly see that we get 100% accuracy on the training data by crazily overfitting it, and we fail to generalize well for our testing data"
   ]
  },
  {
   "cell_type": "markdown",
   "metadata": {
    "colab_type": "text",
    "deletable": true,
    "editable": true,
    "id": "ww3SCBUdlkRc"
   },
   "source": [
    "---\n",
    "Problem 3\n",
    "---------\n",
    "Introduce Dropout on the hidden layer of the neural network. Remember: Dropout should only be introduced during training, not evaluation, otherwise your evaluation results would be stochastic as well. TensorFlow provides `nn.dropout()` for that, but you have to make sure it's only inserted during training.\n",
    "\n",
    "What happens to our extreme overfitting case?\n",
    "\n",
    "---"
   ]
  },
  {
   "cell_type": "markdown",
   "metadata": {
    "deletable": true,
    "editable": true
   },
   "source": [
    "### NN with Dropout"
   ]
  },
  {
   "cell_type": "code",
   "execution_count": 35,
   "metadata": {
    "collapsed": false,
    "deletable": true,
    "editable": true
   },
   "outputs": [],
   "source": [
    "batch_size = 128\n",
    "hidden_layer_nodes = 1024\n",
    "beta = 0.001\n",
    "\n",
    "graph = tf.Graph()\n",
    "with graph.as_default():\n",
    "\n",
    "  # Input data. For the training data, we use a placeholder that will be fed\n",
    "  # at run time with a training minibatch.\n",
    "  tf_train_dataset = tf.placeholder(tf.float32,\n",
    "                                    shape=(batch_size, image_size * image_size))\n",
    "  tf_train_labels = tf.placeholder(tf.float32, shape=(batch_size, num_labels))\n",
    "  tf_valid_dataset = tf.constant(valid_dataset)\n",
    "  tf_test_dataset = tf.constant(test_dataset)\n",
    "  \n",
    "  # Variables.\n",
    "  weights1 = tf.Variable(\n",
    "    tf.truncated_normal([image_size * image_size, hidden_layer_nodes]))\n",
    "  biases1 = tf.Variable(tf.zeros([hidden_layer_nodes]))\n",
    "  weights2 = tf.Variable(\n",
    "    tf.truncated_normal([hidden_layer_nodes, num_labels]))\n",
    "  biases2 = tf.Variable(tf.zeros([num_labels]))\n",
    "  \n",
    "  # Training computation.\n",
    "  layer1 = tf.matmul(tf_train_dataset, weights1) + biases1\n",
    "  relus = tf.nn.relu(layer1)\n",
    "  post_dropout = tf.nn.dropout(relus, keep_prob=0.5)\n",
    "  logits = tf.matmul(post_dropout, weights2) + biases2\n",
    "  loss = tf.reduce_mean(\n",
    "    tf.nn.softmax_cross_entropy_with_logits(labels=tf_train_labels, logits=logits)) + (\n",
    "      beta * (tf.nn.l2_loss(weights1) + tf.nn.l2_loss(weights2))\n",
    "    )\n",
    "  \n",
    "  # Optimizer.\n",
    "  optimizer = tf.train.GradientDescentOptimizer(0.5).minimize(loss)\n",
    "  \n",
    "  # Predictions for the training, validation, and test data.\n",
    "  train_prediction = tf.nn.softmax(logits)\n",
    "  valid_prediction = tf.nn.softmax(\n",
    "      tf.matmul(\n",
    "          tf.nn.relu(\n",
    "              tf.matmul(tf_valid_dataset, weights1) + biases1\n",
    "          ), weights2)\n",
    "      + biases2)\n",
    "\n",
    "\n",
    "  test_prediction = tf.nn.softmax(\n",
    "      tf.matmul(\n",
    "          tf.nn.relu(\n",
    "              tf.matmul(tf_test_dataset, weights1) + biases1\n",
    "          ), weights2)\n",
    "      + biases2)"
   ]
  },
  {
   "cell_type": "code",
   "execution_count": 36,
   "metadata": {
    "collapsed": false,
    "deletable": true,
    "editable": true
   },
   "outputs": [
    {
     "name": "stdout",
     "output_type": "stream",
     "text": [
      "Initialized\n",
      "Minibatch loss at step 0: 906.185913\n",
      "Minibatch accuracy: 5.5%\n",
      "Validation accuracy: 21.7%\n",
      "Minibatch loss at step 500: 195.113754\n",
      "Minibatch accuracy: 84.4%\n",
      "Validation accuracy: 81.8%\n",
      "Minibatch loss at step 1000: 119.433556\n",
      "Minibatch accuracy: 80.5%\n",
      "Validation accuracy: 82.0%\n",
      "Minibatch loss at step 1500: 70.160820\n",
      "Minibatch accuracy: 82.0%\n",
      "Validation accuracy: 82.7%\n",
      "Minibatch loss at step 2000: 42.529278\n",
      "Minibatch accuracy: 86.7%\n",
      "Validation accuracy: 84.0%\n",
      "Minibatch loss at step 2500: 25.720526\n",
      "Minibatch accuracy: 91.4%\n",
      "Validation accuracy: 84.8%\n",
      "Minibatch loss at step 3000: 15.649412\n",
      "Minibatch accuracy: 94.5%\n",
      "Validation accuracy: 85.7%\n",
      "Minibatch loss at step 3500: 9.790589\n",
      "Minibatch accuracy: 89.8%\n",
      "Validation accuracy: 86.1%\n",
      "Minibatch loss at step 4000: 6.115727\n",
      "Minibatch accuracy: 91.4%\n",
      "Validation accuracy: 86.6%\n",
      "Minibatch loss at step 4500: 3.929503\n",
      "Minibatch accuracy: 92.2%\n",
      "Validation accuracy: 86.8%\n",
      "Minibatch loss at step 5000: 2.625267\n",
      "Minibatch accuracy: 91.4%\n",
      "Validation accuracy: 87.0%\n",
      "Test accuracy: 92.6%\n"
     ]
    }
   ],
   "source": [
    "num_steps = 5001\n",
    "\n",
    "with tf.Session(graph=graph) as session:\n",
    "  tf.global_variables_initializer().run()\n",
    "  print(\"Initialized\")\n",
    "  for step in range(num_steps):\n",
    "    # Pick an offset within the training data, which has been randomized.\n",
    "    # Note: we could use better randomization across epochs.\n",
    "    offset = (step * batch_size) % (train_labels.shape[0] - batch_size)\n",
    "    # Generate a minibatch.\n",
    "    batch_data = train_dataset[offset:(offset + batch_size), :]\n",
    "    batch_labels = train_labels[offset:(offset + batch_size), :]\n",
    "    # Prepare a dictionary telling the session where to feed the minibatch.\n",
    "    # The key of the dictionary is the placeholder node of the graph to be fed,\n",
    "    # and the value is the numpy array to feed to it.\n",
    "    feed_dict = {tf_train_dataset : batch_data, tf_train_labels : batch_labels}\n",
    "    _, l, predictions = session.run(\n",
    "      [optimizer, loss, train_prediction], feed_dict=feed_dict)\n",
    "    if (step % 500 == 0):\n",
    "      print(\"Minibatch loss at step %d: %f\" % (step, l))\n",
    "      print(\"Minibatch accuracy: %.1f%%\" % accuracy(predictions, batch_labels))\n",
    "      print(\"Validation accuracy: %.1f%%\" % accuracy(\n",
    "        valid_prediction.eval(), valid_labels))\n",
    "  print(\"Test accuracy: %.1f%%\" % accuracy(test_prediction.eval(), test_labels))"
   ]
  },
  {
   "cell_type": "markdown",
   "metadata": {
    "deletable": true,
    "editable": true
   },
   "source": [
    "### Overfit case with dropout"
   ]
  },
  {
   "cell_type": "code",
   "execution_count": 5,
   "metadata": {
    "collapsed": true,
    "deletable": true,
    "editable": true
   },
   "outputs": [],
   "source": [
    "batch_size = 32\n",
    "hidden_layer_nodes = 1024\n",
    "beta = 0.001\n",
    "\n",
    "graph = tf.Graph()\n",
    "with graph.as_default():\n",
    "\n",
    "  # Input data. For the training data, we use a placeholder that will be fed\n",
    "  # at run time with a training minibatch.\n",
    "  tf_train_dataset = tf.placeholder(tf.float32,\n",
    "                                    shape=(batch_size, image_size * image_size))\n",
    "  tf_train_labels = tf.placeholder(tf.float32, shape=(batch_size, num_labels))\n",
    "  tf_valid_dataset = tf.constant(valid_dataset)\n",
    "  tf_test_dataset = tf.constant(test_dataset)\n",
    "  \n",
    "  # Variables.\n",
    "  weights1 = tf.Variable(\n",
    "    tf.truncated_normal([image_size * image_size, hidden_layer_nodes]))\n",
    "  biases1 = tf.Variable(tf.zeros([hidden_layer_nodes]))\n",
    "  weights2 = tf.Variable(\n",
    "    tf.truncated_normal([hidden_layer_nodes, num_labels]))\n",
    "  biases2 = tf.Variable(tf.zeros([num_labels]))\n",
    "  \n",
    "  # Training computation.\n",
    "  layer1 = tf.matmul(tf_train_dataset, weights1) + biases1\n",
    "  relus = tf.nn.relu(layer1)\n",
    "  post_dropout = tf.nn.dropout(relus, keep_prob=0.5)\n",
    "  logits = tf.matmul(post_dropout, weights2) + biases2\n",
    "  loss = tf.reduce_mean(\n",
    "    tf.nn.softmax_cross_entropy_with_logits(labels=tf_train_labels, logits=logits)) + (\n",
    "      beta * (tf.nn.l2_loss(weights1) + tf.nn.l2_loss(weights2))\n",
    "    )\n",
    "  \n",
    "  # Optimizer.\n",
    "  optimizer = tf.train.GradientDescentOptimizer(0.5).minimize(loss)\n",
    "  \n",
    "  # Predictions for the training, validation, and test data.\n",
    "  train_prediction = tf.nn.softmax(logits)\n",
    "  valid_prediction = tf.nn.softmax(\n",
    "      tf.matmul(\n",
    "          tf.nn.relu(\n",
    "              tf.matmul(tf_valid_dataset, weights1) + biases1\n",
    "          ), weights2)\n",
    "      + biases2)\n",
    "\n",
    "\n",
    "  test_prediction = tf.nn.softmax(\n",
    "      tf.matmul(\n",
    "          tf.nn.relu(\n",
    "              tf.matmul(tf_test_dataset, weights1) + biases1\n",
    "          ), weights2)\n",
    "      + biases2)"
   ]
  },
  {
   "cell_type": "code",
   "execution_count": 40,
   "metadata": {
    "collapsed": false,
    "deletable": true,
    "editable": true,
    "scrolled": true
   },
   "outputs": [
    {
     "name": "stdout",
     "output_type": "stream",
     "text": [
      "Initialized\n",
      "Minibatch loss at step 0: 753.943970\n",
      "Minibatch accuracy: 15.6%\n",
      "Validation accuracy: 25.2%\n",
      "Minibatch loss at step 500: 194.654709\n",
      "Minibatch accuracy: 100.0%\n",
      "Validation accuracy: 50.3%\n",
      "Minibatch loss at step 1000: 118.183601\n",
      "Minibatch accuracy: 100.0%\n",
      "Validation accuracy: 49.0%\n",
      "Minibatch loss at step 1500: 71.673019\n",
      "Minibatch accuracy: 100.0%\n",
      "Validation accuracy: 49.0%\n",
      "Minibatch loss at step 2000: 43.466507\n",
      "Minibatch accuracy: 100.0%\n",
      "Validation accuracy: 49.1%\n",
      "Minibatch loss at step 2500: 26.373154\n",
      "Minibatch accuracy: 100.0%\n",
      "Validation accuracy: 48.3%\n",
      "Minibatch loss at step 3000: 15.999766\n",
      "Minibatch accuracy: 100.0%\n",
      "Validation accuracy: 51.9%\n",
      "Minibatch loss at step 3500: 9.704283\n",
      "Minibatch accuracy: 100.0%\n",
      "Validation accuracy: 50.3%\n",
      "Minibatch loss at step 4000: 5.885230\n",
      "Minibatch accuracy: 100.0%\n",
      "Validation accuracy: 50.3%\n",
      "Minibatch loss at step 4500: 3.569132\n",
      "Minibatch accuracy: 100.0%\n",
      "Validation accuracy: 50.2%\n",
      "Minibatch loss at step 5000: 2.164565\n",
      "Minibatch accuracy: 100.0%\n",
      "Validation accuracy: 49.9%\n",
      "Minibatch loss at step 5500: 1.313033\n",
      "Minibatch accuracy: 100.0%\n",
      "Validation accuracy: 49.6%\n",
      "Minibatch loss at step 6000: 0.798164\n",
      "Minibatch accuracy: 100.0%\n",
      "Validation accuracy: 49.4%\n",
      "Minibatch loss at step 6500: 0.487869\n",
      "Minibatch accuracy: 100.0%\n",
      "Validation accuracy: 48.7%\n",
      "Minibatch loss at step 7000: 0.300901\n",
      "Minibatch accuracy: 100.0%\n",
      "Validation accuracy: 49.0%\n",
      "Minibatch loss at step 7500: 0.188588\n",
      "Minibatch accuracy: 100.0%\n",
      "Validation accuracy: 49.1%\n",
      "Minibatch loss at step 8000: 0.120063\n",
      "Minibatch accuracy: 100.0%\n",
      "Validation accuracy: 48.8%\n",
      "Minibatch loss at step 8500: 0.078978\n",
      "Minibatch accuracy: 100.0%\n",
      "Validation accuracy: 49.1%\n",
      "Minibatch loss at step 9000: 0.053027\n",
      "Minibatch accuracy: 100.0%\n",
      "Validation accuracy: 49.2%\n",
      "Minibatch loss at step 9500: 0.038577\n",
      "Minibatch accuracy: 100.0%\n",
      "Validation accuracy: 49.2%\n",
      "Minibatch loss at step 10000: 0.028803\n",
      "Minibatch accuracy: 100.0%\n",
      "Validation accuracy: 49.2%\n",
      "Test accuracy: 53.4%\n"
     ]
    }
   ],
   "source": [
    "num_steps = 10001\n",
    "\n",
    "with tf.Session(graph=graph) as session:\n",
    "  tf.global_variables_initializer().run()\n",
    "  print(\"Initialized\")\n",
    "  for step in range(num_steps):\n",
    "    # Pick an offset within the training data, which has been randomized.\n",
    "    # Note: we could use better randomization across epochs.\n",
    "    \n",
    "    \n",
    "    offset = (step * batch_size) % (train_labels.shape[0] - batch_size)\n",
    "    # BAD BAD BAD, just doing this mod to see how dropout helps overfitting\n",
    "    offset = offset % 5\n",
    "    # Generate a minibatch.\n",
    "    batch_data = train_dataset[offset:(offset + batch_size), :]\n",
    "    batch_labels = train_labels[offset:(offset + batch_size), :]\n",
    "    # Prepare a dictionary telling the session where to feed the minibatch.\n",
    "    # The key of the dictionary is the placeholder node of the graph to be fed,\n",
    "    # and the value is the numpy array to feed to it.\n",
    "    feed_dict = {tf_train_dataset : batch_data, tf_train_labels : batch_labels}\n",
    "    _, l, predictions = session.run(\n",
    "      [optimizer, loss, train_prediction], feed_dict=feed_dict)\n",
    "    if (step % 500 == 0):\n",
    "      print(\"Minibatch loss at step %d: %f\" % (step, l))\n",
    "      print(\"Minibatch accuracy: %.1f%%\" % accuracy(predictions, batch_labels))\n",
    "      print(\"Validation accuracy: %.1f%%\" % accuracy(\n",
    "        valid_prediction.eval(), valid_labels))\n",
    "  print(\"Test accuracy: %.1f%%\" % accuracy(test_prediction.eval(), test_labels))"
   ]
  },
  {
   "cell_type": "markdown",
   "metadata": {
    "deletable": true,
    "editable": true
   },
   "source": [
    "With the dropout, we expect that we will not overfit as much to the training data. By dropping out half of the weights, we don't allow the network to simply memorize the training dataset, forcing it to generalize at least a little bit better."
   ]
  },
  {
   "cell_type": "markdown",
   "metadata": {
    "colab_type": "text",
    "deletable": true,
    "editable": true,
    "id": "-b1hTz3VWZjw"
   },
   "source": [
    "---\n",
    "Problem 4\n",
    "---------\n",
    "\n",
    "Try to get the best performance you can using a multi-layer model! The best reported test accuracy using a deep network is [97.1%](http://yaroslavvb.blogspot.com/2011/09/notmnist-dataset.html?showComment=1391023266211#c8758720086795711595).\n",
    "\n",
    "One avenue you can explore is to add multiple layers.\n",
    "\n",
    "Another one is to use learning rate decay:\n",
    "\n",
    "    global_step = tf.Variable(0)  # count the number of steps taken.\n",
    "    learning_rate = tf.train.exponential_decay(0.5, global_step, ...)\n",
    "    optimizer = tf.train.GradientDescentOptimizer(learning_rate).minimize(loss, global_step=global_step)\n",
    " \n",
    " ---\n"
   ]
  },
  {
   "cell_type": "code",
   "execution_count": 11,
   "metadata": {
    "collapsed": false,
    "deletable": true,
    "editable": true
   },
   "outputs": [],
   "source": [
    "batch_size = 128\n",
    "hidden_layer_nodes = 1024\n",
    "beta = 0.0000001\n",
    "\n",
    "graph = tf.Graph()\n",
    "with graph.as_default():\n",
    "\n",
    "  # Input data. For the training data, we use a placeholder that will be fed\n",
    "  # at run time with a training minibatch.\n",
    "  tf_train_dataset = tf.placeholder(tf.float32,\n",
    "                                    shape=(batch_size, image_size * image_size))\n",
    "  tf_train_labels = tf.placeholder(tf.float32, shape=(batch_size, num_labels))\n",
    "  tf_valid_dataset = tf.constant(valid_dataset)\n",
    "  tf_test_dataset = tf.constant(test_dataset)\n",
    "  \n",
    "  # Variables.\n",
    "  weights1 = tf.Variable(\n",
    "    tf.truncated_normal([image_size * image_size, hidden_layer_nodes], stddev=sqrt(2.0/(image_size * image_size))))\n",
    "  biases1 = tf.Variable(tf.zeros([hidden_layer_nodes]))\n",
    "  \n",
    "  weights2 = tf.Variable(tf.truncated_normal([hidden_layer_nodes, hidden_layer_nodes], stddev=sqrt(2.0/hidden_layer_nodes)))\n",
    "  biases2 = tf.Variable(tf.zeros([hidden_layer_nodes]))\n",
    "\n",
    "  weights3 = tf.Variable(\n",
    "    tf.truncated_normal([hidden_layer_nodes, num_labels], stddev=sqrt(2.0/hidden_layer_nodes)))\n",
    "  biases3 = tf.Variable(tf.zeros([num_labels]))\n",
    "\n",
    "  # Training computation.\n",
    "  layer1 = tf.matmul(tf_train_dataset, weights1) + biases1\n",
    "  relus1 = tf.nn.relu(layer1)\n",
    "  post_dropout1 = tf.nn.dropout(relus1, keep_prob=0.5)\n",
    "  layer2 = tf.matmul(post_dropout1, weights2) + biases2\n",
    "  relus2 = tf.nn.relu(layer2)\n",
    "  post_dropout2 = tf.nn.dropout(relus2, keep_prob=0.5)\n",
    "  logits = tf.matmul(post_dropout2, weights3) + biases3\n",
    "  loss = tf.reduce_mean(\n",
    "    tf.nn.softmax_cross_entropy_with_logits(labels=tf_train_labels, logits=logits))\n",
    "  \n",
    "  # Optimizer.\n",
    "  global_step = tf.Variable(0)  # count the number of steps taken.\n",
    "  learning_rate = tf.train.exponential_decay(0.04, global_step, 1000, 0.96)\n",
    "  optimizer = tf.train.GradientDescentOptimizer(learning_rate).minimize(loss, global_step=global_step)\n",
    "  #optimizer = tf.train.GradientDescentOptimizer(0.5).minimize(loss)\n",
    "  \n",
    "  # Predictions for the training, validation, and test data.\n",
    "  train_prediction = tf.nn.softmax(logits)\n",
    "  valid_prediction = tf.nn.softmax(\n",
    "      tf.matmul(\n",
    "          tf.nn.relu(tf.matmul(\n",
    "              tf.nn.relu(\n",
    "                  tf.matmul(tf_valid_dataset, weights1) + biases1), weights2)\n",
    "              + biases2)\n",
    "          , weights3) + biases3)\n",
    "\n",
    "  test_prediction = tf.nn.softmax(\n",
    "      tf.matmul(\n",
    "          tf.nn.relu(tf.matmul(\n",
    "              tf.nn.relu(\n",
    "                  tf.matmul(tf_test_dataset, weights1) + biases1), weights2)\n",
    "              + biases2)\n",
    "          , weights3) + biases3)"
   ]
  },
  {
   "cell_type": "code",
   "execution_count": 12,
   "metadata": {
    "collapsed": false,
    "deletable": true,
    "editable": true
   },
   "outputs": [
    {
     "name": "stdout",
     "output_type": "stream",
     "text": [
      "Initialized\n",
      "Minibatch loss at step 0: 2.637584\n",
      "Minibatch accuracy: 8.6%\n",
      "Validation accuracy: 16.4%\n",
      "Minibatch loss at step 1000: 0.830163\n",
      "Minibatch accuracy: 75.0%\n",
      "Validation accuracy: 83.4%\n",
      "Minibatch loss at step 2000: 0.415825\n",
      "Minibatch accuracy: 89.1%\n",
      "Validation accuracy: 84.6%\n",
      "Minibatch loss at step 3000: 0.496942\n",
      "Minibatch accuracy: 86.7%\n",
      "Validation accuracy: 85.0%\n",
      "Minibatch loss at step 4000: 0.512879\n",
      "Minibatch accuracy: 83.6%\n",
      "Validation accuracy: 85.5%\n",
      "Minibatch loss at step 5000: 0.584164\n",
      "Minibatch accuracy: 82.0%\n",
      "Validation accuracy: 85.9%\n",
      "Minibatch loss at step 6000: 0.454035\n",
      "Minibatch accuracy: 88.3%\n",
      "Validation accuracy: 86.3%\n",
      "Minibatch loss at step 7000: 0.500968\n",
      "Minibatch accuracy: 87.5%\n",
      "Validation accuracy: 86.5%\n",
      "Minibatch loss at step 8000: 0.467915\n",
      "Minibatch accuracy: 87.5%\n",
      "Validation accuracy: 86.8%\n",
      "Minibatch loss at step 9000: 0.370032\n",
      "Minibatch accuracy: 89.1%\n",
      "Validation accuracy: 87.0%\n",
      "Minibatch loss at step 10000: 0.302937\n",
      "Minibatch accuracy: 89.8%\n",
      "Validation accuracy: 87.1%\n",
      "Minibatch loss at step 11000: 0.388709\n",
      "Minibatch accuracy: 89.1%\n",
      "Validation accuracy: 87.3%\n",
      "Minibatch loss at step 12000: 0.574765\n",
      "Minibatch accuracy: 82.8%\n",
      "Validation accuracy: 87.4%\n",
      "Minibatch loss at step 13000: 0.479671\n",
      "Minibatch accuracy: 89.1%\n",
      "Validation accuracy: 87.7%\n",
      "Minibatch loss at step 14000: 0.400166\n",
      "Minibatch accuracy: 89.8%\n",
      "Validation accuracy: 87.6%\n",
      "Minibatch loss at step 15000: 0.483872\n",
      "Minibatch accuracy: 85.2%\n",
      "Validation accuracy: 87.8%\n",
      "Minibatch loss at step 16000: 0.362462\n",
      "Minibatch accuracy: 91.4%\n",
      "Validation accuracy: 88.1%\n",
      "Minibatch loss at step 17000: 0.402352\n",
      "Minibatch accuracy: 88.3%\n",
      "Validation accuracy: 88.1%\n",
      "Minibatch loss at step 18000: 0.439176\n",
      "Minibatch accuracy: 85.9%\n",
      "Validation accuracy: 88.3%\n",
      "Minibatch loss at step 19000: 0.344511\n",
      "Minibatch accuracy: 88.3%\n",
      "Validation accuracy: 88.3%\n",
      "Minibatch loss at step 20000: 0.534104\n",
      "Minibatch accuracy: 85.9%\n",
      "Validation accuracy: 88.4%\n",
      "Test accuracy: 94.4%\n"
     ]
    }
   ],
   "source": [
    "num_steps = 20001\n",
    "\n",
    "with tf.Session(graph=graph) as session:\n",
    "  tf.global_variables_initializer().run()\n",
    "  print(\"Initialized\")\n",
    "  for step in range(num_steps):\n",
    "    # Pick an offset within the training data, which has been randomized.\n",
    "    # Note: we could use better randomization across epochs.\n",
    "    offset = (step * batch_size) % (train_labels.shape[0] - batch_size)\n",
    "    # Generate a minibatch.\n",
    "    batch_data = train_dataset[offset:(offset + batch_size), :]\n",
    "    batch_labels = train_labels[offset:(offset + batch_size), :]\n",
    "    # Prepare a dictionary telling the session where to feed the minibatch.\n",
    "    # The key of the dictionary is the placeholder node of the graph to be fed,\n",
    "    # and the value is the numpy array to feed to it.\n",
    "    feed_dict = {tf_train_dataset : batch_data, tf_train_labels : batch_labels}\n",
    "    _, l, predictions = session.run(\n",
    "      [optimizer, loss, train_prediction], feed_dict=feed_dict)\n",
    "    if (step % 1000 == 0):\n",
    "      print(\"Minibatch loss at step %d: %f\" % (step, l))\n",
    "      print(\"Minibatch accuracy: %.1f%%\" % accuracy(predictions, batch_labels))\n",
    "      print(\"Validation accuracy: %.1f%%\" % accuracy(\n",
    "        valid_prediction.eval(), valid_labels))\n",
    "  print(\"Test accuracy: %.1f%%\" % accuracy(test_prediction.eval(), test_labels))"
   ]
  },
  {
   "cell_type": "code",
   "execution_count": null,
   "metadata": {
    "collapsed": true
   },
   "outputs": [],
   "source": []
  }
 ],
 "metadata": {
  "colab": {
   "default_view": {},
   "name": "3_regularization.ipynb",
   "provenance": [],
   "version": "0.3.2",
   "views": {}
  },
  "kernelspec": {
   "display_name": "Python 2",
   "language": "python",
   "name": "python2"
  },
  "language_info": {
   "codemirror_mode": {
    "name": "ipython",
    "version": 2
   },
   "file_extension": ".py",
   "mimetype": "text/x-python",
   "name": "python",
   "nbconvert_exporter": "python",
   "pygments_lexer": "ipython2",
   "version": "2.7.6"
  }
 },
 "nbformat": 4,
 "nbformat_minor": 0
}
